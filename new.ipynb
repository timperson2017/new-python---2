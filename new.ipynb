{
 "cells": [
  {
   "cell_type": "code",
   "execution_count": null,
   "metadata": {},
   "outputs": [],
   "source": [
    "# 코드 실행기 사용하기 : 윈도우 파워셀\n",
    "\n",
    "PS C: \\Users\\사용자 이름>"
   ]
  },
  {
   "cell_type": "code",
   "execution_count": null,
   "metadata": {},
   "outputs": [],
   "source": [
    "# 현재 폴더 확인하기 ls 명령어\n",
    "\n",
    "PS C: \\Users\\사용자 이름> ls"
   ]
  },
  {
   "cell_type": "code",
   "execution_count": null,
   "metadata": {},
   "outputs": [],
   "source": [
    "# 폴더로 이동하기 : cd 명령어\n",
    "\n",
    "PS C: \\Users\\사용자 이름> cd desktop\n",
    "\n",
    "# 다시 상위 폴더로 되돌아간다\n",
    "PS C: \\Users\\사용자 이름\\Desktop> cd..\n",
    "PS C: \\Users\\사용자 이름>"
   ]
  },
  {
   "cell_type": "code",
   "execution_count": 2,
   "metadata": {},
   "outputs": [
    {
     "name": "stdout",
     "output_type": "stream",
     "text": [
      "['False', 'None', 'True', '__peg_parser__', 'and', 'as', 'assert', 'async', 'await', 'break', 'class', 'continue', 'def', 'del', 'elif', 'else', 'except', 'finally', 'for', 'from', 'global', 'if', 'import', 'in', 'is', 'lambda', 'nonlocal', 'not', 'or', 'pass', 'raise', 'return', 'try', 'while', 'with', 'yield']\n"
     ]
    }
   ],
   "source": [
    "# 키워드 불러오기 \n",
    "import keyword\n",
    "print(keyword.kwlist)"
   ]
  },
  {
   "cell_type": "code",
   "execution_count": null,
   "metadata": {},
   "outputs": [],
   "source": [
    "# 식별자\n",
    "# 프로그래밍 언어에서 이름 붙일 떄 사용하는 요소 \n",
    "# 기본적으로 다음과 같은 규칙 만들어서 사용\n",
    "# 키워드 사용하지 마라\n",
    "# 특수문자는 언더 바 하나만 허용\n",
    "# 숫자로 시작하면 안된다\n",
    "# 공백 포함할 수 없다\n",
    "\n",
    "# 스네이크 케이스 : 단어 사이에 언더 바 붙여서 표현\n",
    "# 캐멀 케이스  : 단어들의 첫 글자를 대문자로 만들어 사용\n",
    "\n",
    "# 캐멀 케이스 유형 : PrintHello -> 파이썬에서 사용\n",
    "# 캐멀 케이스 유형 : printHello -> 파이썬에서 사용 x -> 클래스"
   ]
  },
  {
   "cell_type": "code",
   "execution_count": null,
   "metadata": {},
   "outputs": [],
   "source": [
    "# 자료형과 기본 자료형\n",
    "# 문자열 : 메일 제목, 메세지 내용\n",
    "# 숫자열 : 물건의 가격, 학생의 성적 등 \n",
    "# 불 : 친구의 로그인 상태 등 "
   ]
  },
  {
   "cell_type": "code",
   "execution_count": 3,
   "metadata": {},
   "outputs": [
    {
     "name": "stdout",
     "output_type": "stream",
     "text": [
      "하나만 출력합니다\n",
      "Hello Python Programming!\n",
      "\n"
     ]
    }
   ],
   "source": [
    "# 문자열 만들기\n",
    "\n",
    "print(\"하나만 출력합니다\")\n",
    "print(\"Hello Python Programming!\")\n",
    "print()"
   ]
  },
  {
   "cell_type": "code",
   "execution_count": 4,
   "metadata": {},
   "outputs": [
    {
     "name": "stdout",
     "output_type": "stream",
     "text": [
      "여러 개를 출력합니다\n",
      "10 20 30 40 50\n",
      "안녕하세요 저의 이름은\n"
     ]
    }
   ],
   "source": [
    "print(\"여러 개를 출력합니다\")\n",
    "print(10, 20, 30, 40, 50)\n",
    "print(\"안녕하세요\", \"저의\", \"이름은\")"
   ]
  },
  {
   "cell_type": "code",
   "execution_count": 5,
   "metadata": {},
   "outputs": [
    {
     "ename": "SyntaxError",
     "evalue": "invalid syntax (781392937.py, line 2)",
     "output_type": "error",
     "traceback": [
      "\u001b[1;36m  Input \u001b[1;32mIn [5]\u001b[1;36m\u001b[0m\n\u001b[1;33m    print(\"\"안녕하세요\"라고 말했습니다\")\u001b[0m\n\u001b[1;37m            ^\u001b[0m\n\u001b[1;31mSyntaxError\u001b[0m\u001b[1;31m:\u001b[0m invalid syntax\n"
     ]
    }
   ],
   "source": [
    "# 문자 내부에 따옴표 넣기\n",
    "print(\"\"안녕하세요\"라고 말했습니다\")"
   ]
  },
  {
   "cell_type": "code",
   "execution_count": 6,
   "metadata": {},
   "outputs": [
    {
     "name": "stdout",
     "output_type": "stream",
     "text": [
      "\"안녕하세요\"라고 말했습니다\n",
      "\n"
     ]
    }
   ],
   "source": [
    "print('\"안녕하세요\"라고 말했습니다')\n",
    "print()"
   ]
  },
  {
   "cell_type": "code",
   "execution_count": 7,
   "metadata": {},
   "outputs": [
    {
     "name": "stdout",
     "output_type": "stream",
     "text": [
      "\\안녕하세요\\라고 말했습니다\n",
      "\n"
     ]
    }
   ],
   "source": [
    "# escape 문자 사용 문자열 만들기 \n",
    "print(\"\\안녕하세요\\라고 말했습니다\")\n",
    "print()"
   ]
  },
  {
   "cell_type": "code",
   "execution_count": 8,
   "metadata": {},
   "outputs": [
    {
     "name": "stdout",
     "output_type": "stream",
     "text": [
      "'배가 고픕니다' 라고 생각했습니다\n",
      "\n"
     ]
    }
   ],
   "source": [
    "print('\\'배가 고픕니다\\' 라고 생각했습니다')\n",
    "print()"
   ]
  },
  {
   "cell_type": "code",
   "execution_count": null,
   "metadata": {},
   "outputs": [],
   "source": [
    "# \\n : 줄바꿈 의미\n",
    "# \\t : 탭 의미"
   ]
  },
  {
   "cell_type": "code",
   "execution_count": 9,
   "metadata": {},
   "outputs": [
    {
     "name": "stdout",
     "output_type": "stream",
     "text": [
      " \\ \\ \\ \\\n",
      "\n"
     ]
    }
   ],
   "source": [
    "# \\\\ : 역슬래시 의미\n",
    "print(\" \\\\ \\\\ \\\\ \\\\\")\n",
    "print()"
   ]
  },
  {
   "cell_type": "code",
   "execution_count": null,
   "metadata": {},
   "outputs": [],
   "source": [
    "# 의도치 않은 줄바꿈 들어가지 않게 하려면 -> \\ 기호 사용"
   ]
  },
  {
   "cell_type": "code",
   "execution_count": null,
   "metadata": {},
   "outputs": [],
   "source": [
    "# 문자열 연산자 \n",
    "\"문자열\" + \"문자열\"\n"
   ]
  },
  {
   "cell_type": "code",
   "execution_count": 10,
   "metadata": {},
   "outputs": [
    {
     "name": "stdout",
     "output_type": "stream",
     "text": [
      "안녕하세요\n"
     ]
    }
   ],
   "source": [
    "print(\"안녕\" + \"하세요\")"
   ]
  },
  {
   "cell_type": "code",
   "execution_count": 11,
   "metadata": {},
   "outputs": [
    {
     "name": "stdout",
     "output_type": "stream",
     "text": [
      "안녕하세요안녕하세요안녕하세요\n",
      "\n"
     ]
    }
   ],
   "source": [
    "# 반복 연산자 : *\n",
    "print(\"안녕하세요\" * 3)\n",
    "print()"
   ]
  },
  {
   "cell_type": "code",
   "execution_count": null,
   "metadata": {},
   "outputs": [],
   "source": [
    "# 문자 선택 연산자 : 인덱싱([])\n",
    "# 인덱스 유형 크게 두 가지로 나뉜다. -> 숫자를 0부터 새는 제로 인덱스, 숫자를 1부터 세는 원 인덱스로 구분한다. \n"
   ]
  },
  {
   "cell_type": "code",
   "execution_count": 12,
   "metadata": {},
   "outputs": [
    {
     "name": "stdout",
     "output_type": "stream",
     "text": [
      "5\n"
     ]
    }
   ],
   "source": [
    "# 문자열 길이 구하기 : len()\n",
    "print(len(\"안녕하세요\"))"
   ]
  },
  {
   "cell_type": "code",
   "execution_count": null,
   "metadata": {},
   "outputs": [],
   "source": []
  }
 ],
 "metadata": {
  "kernelspec": {
   "display_name": "Python 3.9.12 ('base')",
   "language": "python",
   "name": "python3"
  },
  "language_info": {
   "codemirror_mode": {
    "name": "ipython",
    "version": 3
   },
   "file_extension": ".py",
   "mimetype": "text/x-python",
   "name": "python",
   "nbconvert_exporter": "python",
   "pygments_lexer": "ipython3",
   "version": "3.9.12"
  },
  "orig_nbformat": 4,
  "vscode": {
   "interpreter": {
    "hash": "e4cce46d6be9934fbd27f9ca0432556941ea5bdf741d4f4d64c6cd7f8dfa8fba"
   }
  }
 },
 "nbformat": 4,
 "nbformat_minor": 2
}
